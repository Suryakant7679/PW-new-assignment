{
 "cells": [
  {
   "cell_type": "markdown",
   "id": "7c6a3bd6-246c-43e3-be1c-ae27bfedb0c6",
   "metadata": {},
   "source": [
    "Q1. How do you comment code in Python? What are the different types of comments?"
   ]
  },
  {
   "cell_type": "code",
   "execution_count": null,
   "id": "8e3edd71-3dde-4c47-8166-47ad6b62ebee",
   "metadata": {},
   "outputs": [],
   "source": [
    "\"\"\" This is first method to do multiline comment \"\"\"\n",
    "''' this is secong method to do multiline comments'''\n",
    "# 3rd wat to comment"
   ]
  },
  {
   "cell_type": "markdown",
   "id": "2dc52e7d-306e-475c-934b-ce7dc56ae9dd",
   "metadata": {},
   "source": [
    "Q2. What are variables in Python? How do you declare and assign values to variables?"
   ]
  },
  {
   "cell_type": "code",
   "execution_count": 2,
   "id": "576e5b46-22c5-4778-a739-d1555f079c1b",
   "metadata": {},
   "outputs": [],
   "source": [
    "# variables are container which is used to store values \n",
    "# we declare variables by assigning some name\n",
    "y=3\n",
    "_t=\"skm\"\n",
    "# this is how we assign value to variable \n"
   ]
  },
  {
   "cell_type": "markdown",
   "id": "a978f1bb-75f0-4b3b-9545-40bb86101c7e",
   "metadata": {},
   "source": [
    "Q3. How do you convert one data type to another in Python?"
   ]
  },
  {
   "cell_type": "code",
   "execution_count": 5,
   "id": "3b621d2f-6d17-4052-86b5-86404669261b",
   "metadata": {},
   "outputs": [
    {
     "name": "stdout",
     "output_type": "stream",
     "text": [
      "<class 'int'>\n",
      "<class 'str'>\n"
     ]
    }
   ],
   "source": [
    "# we convert one data type to another data type by using type casting\n",
    "a=2\n",
    "''' here a is of integer type \n",
    "but now  converting it to string '''\n",
    "print(type(a))\n",
    "a=str(a)\n",
    "print(type(a))\n"
   ]
  },
  {
   "cell_type": "markdown",
   "id": "de3428e9-bc39-4942-afe0-eb1c4c61398d",
   "metadata": {},
   "source": [
    "Q4. How do you write and execute a Python script from the command line?"
   ]
  },
  {
   "cell_type": "code",
   "execution_count": null,
   "id": "8609e1e8-c845-461a-81c7-bffc630b02b7",
   "metadata": {},
   "outputs": [],
   "source": [
    "''' open a command line and type the word python \n",
    "followed by the path to your script file like this:\n",
    "python first_script.py Hello World! \n",
    "Then you hit the ENTER button from the keyboard, and that's it.'''"
   ]
  },
  {
   "cell_type": "markdown",
   "id": "24e803aa-3f23-4033-ba6e-81be7d90bd50",
   "metadata": {},
   "source": [
    "Q5. Given a list my_list = [1, 2, 3, 4, 5], write the code to slice the list and obtain the sub-list [2, 3]."
   ]
  },
  {
   "cell_type": "code",
   "execution_count": 6,
   "id": "c8ff597e-057a-4348-918b-aa51a8791ece",
   "metadata": {},
   "outputs": [
    {
     "data": {
      "text/plain": [
       "[3]"
      ]
     },
     "execution_count": 6,
     "metadata": {},
     "output_type": "execute_result"
    }
   ],
   "source": [
    "my_list=[1,2,3,4,5]\n",
    "my_list[2:3]"
   ]
  },
  {
   "cell_type": "markdown",
   "id": "a8aa189e-58d3-455f-b9a6-c780c89ee0e0",
   "metadata": {},
   "source": [
    "Q6. What is a complex number in mathematics, and how is it represented in Python?"
   ]
  },
  {
   "cell_type": "code",
   "execution_count": 12,
   "id": "4e93d94b-59f4-4181-a62d-965974739324",
   "metadata": {},
   "outputs": [
    {
     "name": "stdout",
     "output_type": "stream",
     "text": [
      "(2+3j)\n"
     ]
    }
   ],
   "source": [
    "''' A complex number in mathematics is number which is represented in combination of real and imadinary no \n",
    " a complex no in mathematics is represented as 1+2i\n",
    " 1 is real part and 2i is imaginary part '''\n",
    "comp = 2+3j\n",
    "print(comp)"
   ]
  },
  {
   "cell_type": "markdown",
   "id": "51ed6aa2-eedb-4df9-8354-556572ba73bc",
   "metadata": {},
   "source": [
    "Q7. What is the correct way to declare a variable named age and assign the value 25 to it?"
   ]
  },
  {
   "cell_type": "code",
   "execution_count": 13,
   "id": "5a2e3b64-c027-44aa-9313-6ea99446c829",
   "metadata": {},
   "outputs": [
    {
     "name": "stdout",
     "output_type": "stream",
     "text": [
      "25\n"
     ]
    }
   ],
   "source": [
    "age =25\n",
    "print(age)"
   ]
  },
  {
   "cell_type": "markdown",
   "id": "1cf48704-d249-4d8f-9449-a4f080045e25",
   "metadata": {},
   "source": [
    "Q8. Declare a variable named price and assign the value 9.99 to it. What data type does this variable\n",
    "belong to?"
   ]
  },
  {
   "cell_type": "code",
   "execution_count": 14,
   "id": "bf40b42c-fd5a-485a-9317-2513869910d6",
   "metadata": {},
   "outputs": [
    {
     "data": {
      "text/plain": [
       "float"
      ]
     },
     "execution_count": 14,
     "metadata": {},
     "output_type": "execute_result"
    }
   ],
   "source": [
    "price =9.99\n",
    "type(price)\n",
    "3it holds float data type"
   ]
  },
  {
   "cell_type": "markdown",
   "id": "c2416640-76ae-4a73-9fe5-30d65a6eeeea",
   "metadata": {},
   "source": [
    "Q9. Create a variable named name and assign your full name to it as a string. How would you print the\n",
    "value of this variable?"
   ]
  },
  {
   "cell_type": "code",
   "execution_count": 18,
   "id": "1fee299d-4e32-4051-84c2-b9ee12013470",
   "metadata": {},
   "outputs": [
    {
     "name": "stdout",
     "output_type": "stream",
     "text": [
      "surya kant mani\n"
     ]
    }
   ],
   "source": [
    "name=\"surya kant mani\"\n",
    "#name[::]\n",
    "print(name)\n"
   ]
  },
  {
   "cell_type": "markdown",
   "id": "e7af9094-43ff-423d-856b-6fe49be8e97c",
   "metadata": {},
   "source": [
    "Q10. Given the string \"Hello, World!\", extract the substring \"World\"."
   ]
  },
  {
   "cell_type": "code",
   "execution_count": 20,
   "id": "185391cf-2909-483f-a1ac-a986a213f1bc",
   "metadata": {},
   "outputs": [
    {
     "data": {
      "text/plain": [
       "'World!'"
      ]
     },
     "execution_count": 20,
     "metadata": {},
     "output_type": "execute_result"
    }
   ],
   "source": [
    "string='Hello, World!'\n",
    "string[7:]"
   ]
  },
  {
   "cell_type": "markdown",
   "id": "cd22eac0-bb29-43bd-88eb-526d6ac41a3e",
   "metadata": {},
   "source": [
    "Q11. Create a variable named \"is_student\" and assign it a boolean value indicating whether you are\n",
    "currently a student or not."
   ]
  },
  {
   "cell_type": "code",
   "execution_count": 46,
   "id": "efd2867d-2325-4a1b-a5d7-506396a39229",
   "metadata": {},
   "outputs": [
    {
     "name": "stdout",
     "output_type": "stream",
     "text": [
      "<class 'bool'>\n",
      "True\n",
      "student\n"
     ]
    }
   ],
   "source": [
    "is_student=True\n",
    "print(type(is_student))\n",
    "print(is_student)\n",
    "if is_student == True :\n",
    "    print(\"student\")\n",
    "else :\n",
    "    print(\"not student\")"
   ]
  },
  {
   "cell_type": "code",
   "execution_count": null,
   "id": "fe09fe21-586e-4cb8-b36c-01d8cfe3edc4",
   "metadata": {},
   "outputs": [],
   "source": []
  }
 ],
 "metadata": {
  "kernelspec": {
   "display_name": "Python 3 (ipykernel)",
   "language": "python",
   "name": "python3"
  },
  "language_info": {
   "codemirror_mode": {
    "name": "ipython",
    "version": 3
   },
   "file_extension": ".py",
   "mimetype": "text/x-python",
   "name": "python",
   "nbconvert_exporter": "python",
   "pygments_lexer": "ipython3",
   "version": "3.10.8"
  }
 },
 "nbformat": 4,
 "nbformat_minor": 5
}
